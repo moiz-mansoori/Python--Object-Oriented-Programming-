{
 "cells": [
  {
   "cell_type": "markdown",
   "metadata": {},
   "source": [
    "#### Public Encapsulation"
   ]
  },
  {
   "cell_type": "code",
   "execution_count": 2,
   "metadata": {},
   "outputs": [
    {
     "name": "stdout",
     "output_type": "stream",
     "text": [
      "The current time of University is 9 PM \n"
     ]
    }
   ],
   "source": [
    "class University:\n",
    "    def __init__(self , Current) -> None:\n",
    "        self.Current = Current\n",
    "    def CurrenttIME(self):\n",
    "        print(f\"The current time of University is {self.Current} PM \")\n",
    "\n",
    "a = University(9)\n",
    "a.CurrenttIME()"
   ]
  },
  {
   "cell_type": "markdown",
   "metadata": {},
   "source": [
    "### Protected Encapsulation"
   ]
  },
  {
   "cell_type": "code",
   "execution_count": 10,
   "metadata": {},
   "outputs": [
    {
     "name": "stdout",
     "output_type": "stream",
     "text": [
      "True\n",
      "False\n",
      "False\n"
     ]
    }
   ],
   "source": [
    "class Demer:\n",
    "    def __init__(self , oon , oof) -> None:\n",
    "        self._oon = oon\n",
    "        self._oof = oof\n",
    "\n",
    "    def _Write(self):\n",
    "        print(f\"{self._oon}\")\n",
    "class Demer2(Demer):\n",
    "    def __init__(self, oon, oof) -> None:\n",
    "        super().__init__(oon, oof)\n",
    "    def _Write2(self):\n",
    "        print(f\"{self._oof}\")\n",
    "    \n",
    "    def final(self):\n",
    "        self._Write()\n",
    "        self._Write2()\n",
    "\n",
    "a = Demer2(True , False)\n",
    "a.final()\n",
    "print(a._oof)"
   ]
  },
  {
   "cell_type": "code",
   "execution_count": 9,
   "metadata": {},
   "outputs": [
    {
     "name": "stdout",
     "output_type": "stream",
     "text": [
      "True\n",
      "False\n",
      "False\n"
     ]
    },
    {
     "ename": "AttributeError",
     "evalue": "'Demer' object has no attribute '_write'",
     "output_type": "error",
     "traceback": [
      "\u001b[1;31m---------------------------------------------------------------------------\u001b[0m",
      "\u001b[1;31mAttributeError\u001b[0m                            Traceback (most recent call last)",
      "Cell \u001b[1;32mIn[9], line 24\u001b[0m\n\u001b[0;32m     21\u001b[0m a\u001b[38;5;241m.\u001b[39mfinal()\n\u001b[0;32m     23\u001b[0m a \u001b[38;5;241m=\u001b[39m Demer(\u001b[38;5;28;01mTrue\u001b[39;00m, \u001b[38;5;28;01mFalse\u001b[39;00m)\n\u001b[1;32m---> 24\u001b[0m a\u001b[38;5;241m.\u001b[39m_write()\n",
      "\u001b[1;31mAttributeError\u001b[0m: 'Demer' object has no attribute '_write'"
     ]
    }
   ],
   "source": [
    "class Demer:\n",
    "    def __init__(self , oon , oof) -> None:\n",
    "        self._oon = oon\n",
    "        self._oof = oof\n",
    "\n",
    "    def _Write(self):\n",
    "        print(f\"{self._oon}\")\n",
    "        \n",
    "        print(f\"{self._oof}\")\n",
    "class Demer2(Demer):\n",
    "    def __init__(self, oon, oof) -> None:\n",
    "        super().__init__(oon, oof)\n",
    "    def _Write2(self):\n",
    "        print(f\"{self._oof}\")\n",
    "    \n",
    "    def final(self):\n",
    "        self._Write()\n",
    "        self._Write2()\n",
    "\n",
    "a = Demer2(True , False)\n",
    "a.final()\n",
    "\n",
    "a = Demer(True, False)\n",
    "a._write()"
   ]
  },
  {
   "cell_type": "markdown",
   "metadata": {},
   "source": [
    "#### Private Encapsulation"
   ]
  },
  {
   "cell_type": "code",
   "execution_count": 15,
   "metadata": {},
   "outputs": [],
   "source": [
    "class Employee:\n",
    "\n",
    "    def __init__(self, name, salary):\n",
    "      \n",
    "        self.name = name\n",
    "      \n",
    "        self.__salary = salary\n",
    "\n",
    "   \n",
    "    def show(self):\n",
    "        print(f\"The Salary of {self.name} is {self.__salary}\")\n",
    "      \n",
    "Name  = input(\"Enter your Name :\")\n",
    "Salary  = input(\"Enter your Name :\")\n",
    "emp = Employee(Name, Salary)\n",
    "\n",
    "emp.show()"
   ]
  },
  {
   "cell_type": "code",
   "execution_count": null,
   "metadata": {},
   "outputs": [],
   "source": []
  }
 ],
 "metadata": {
  "kernelspec": {
   "display_name": "Python 3",
   "language": "python",
   "name": "python3"
  },
  "language_info": {
   "codemirror_mode": {
    "name": "ipython",
    "version": 3
   },
   "file_extension": ".py",
   "mimetype": "text/x-python",
   "name": "python",
   "nbconvert_exporter": "python",
   "pygments_lexer": "ipython3",
   "version": "3.11.5"
  }
 },
 "nbformat": 4,
 "nbformat_minor": 2
}
