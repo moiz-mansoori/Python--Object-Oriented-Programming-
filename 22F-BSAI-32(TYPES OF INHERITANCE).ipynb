{
 "cells": [
  {
   "cell_type": "code",
   "execution_count": 10,
   "id": "4912a73b",
   "metadata": {},
   "outputs": [
    {
     "name": "stdout",
     "output_type": "stream",
     "text": [
      "Hi my name is Muzzamil khalid And I from DUET Roll Number is 29\n",
      "Hi my name is Moiz Mansoori And I from DUET Roll Number is 32\n",
      "Hi my name is HAMZA Kamleen And I from DUET Roll Number is 9\n"
     ]
    }
   ],
   "source": [
    "\"\"\"Single Inheritance\"\"\"\n",
    "\n",
    "class single_inheritance:\n",
    "    def __init__(self , name , last_name):\n",
    "        self.name = name\n",
    "        self.last_name = last_name\n",
    "        \n",
    "class single_drive(single_inheritance):\n",
    "    def __init__(self,name,last_name,uni,roll_num):\n",
    "            super().__init__(name,last_name)\n",
    "            self.uni  = uni\n",
    "            self.roll_num = roll_num\n",
    "    def print_int(self):\n",
    "        print(f\"Hi My Name is {self.name} {self.last_name} And I from {self.uni} Roll Number is {self.roll_num}\")\n",
    "              \n",
    "            \n",
    "Obj = single_drive(\"Muzzamil\" , \"khalid\" , \"DUET\" ,29)\n",
    "Obj.print_int()\n",
    "\n",
    "Obj2 = single_drive(\"Moiz\" , \"Mansoori\" , \"DUET\" ,32)\n",
    "Obj2.print_int()\n",
    "\n",
    "Obj3 = single_drive(\"HAMZA\" , \"Kamleen\" , \"DUET\" ,9)\n",
    "Obj3.print_int()"
   ]
  },
  {
   "cell_type": "code",
   "execution_count": 19,
   "id": "fec81d0d",
   "metadata": {},
   "outputs": [
    {
     "name": "stdout",
     "output_type": "stream",
     "text": [
      "Enter Your First Name :mUZ5Z5A\n",
      "Enter your Last Name :8555\n",
      "Enter your University Name :565\n",
      "Enter your City Name :55\n",
      "Enter your Age :\n",
      "HI My Name is mUZ5Z5A 8555\n",
      "I'am  Years Old!\n"
     ]
    }
   ],
   "source": [
    "\"\"\"Multiple Inheritance\"\"\"\n",
    "\n",
    "class Base1:\n",
    "    def __init__(self , Name , Last_Name):\n",
    "        self.Name = Name\n",
    "        self.Last_Name = Last_Name\n",
    "        print(f\"HI My Name is {self.Name} {self.Last_Name}\")\n",
    "class Base2:\n",
    "    def __init__(self , Uni , City):\n",
    "        self.Uni = Uni\n",
    "        self.City = City\n",
    "        \n",
    "        print(f\"I'am Currently Enrolled in BSAI at the {self.Uni}\")\n",
    "        print(f\"And I from {self.City}\")\n",
    "\n",
    "class derived1(Base1 , Base2):\n",
    "    def __init__(self, Name , Last_Name , Uni , City , Age ):\n",
    "        super().__init__(Name , Last_Name)\n",
    "        self.Age = Age\n",
    "       \n",
    "        print(f\"I'am {self.Age} Years Old!\")\n",
    "    \n",
    "Name = input(\"Enter Your First Name :\")\n",
    "L_Name = input(\"Enter your Last Name :\")\n",
    "University = input(\"Enter your University Name :\")\n",
    "City1 = input(\"Enter your City Name :\")\n",
    "Age = input(\"Enter your Age :\")\n",
    "\n",
    "obj = derived1(Name , L_Name , University , City1, Age)\n"
   ]
  },
  {
   "cell_type": "code",
   "execution_count": 29,
   "id": "0459a867",
   "metadata": {},
   "outputs": [
    {
     "name": "stdout",
     "output_type": "stream",
     "text": [
      "Enter Your First Name :k\n",
      "Enter your Last Name :f\n",
      "Enter your University Name :df\n",
      "Enter your City Name :d52\n",
      "Enter your Age :df3\n",
      "HI My Name is k f\n",
      "I'am Currently Enrolled in BSAI at the df\n",
      "And I from d52\n",
      "I'am df3 Years Old!\n"
     ]
    }
   ],
   "source": [
    "\"\"\"Multiple Inheritance\"\"\"\n",
    "\n",
    "\"\"\"Multiple Inheritance\"\"\"\n",
    "\n",
    "class Base1:\n",
    "    def __init__(self , Name , Last_Name):\n",
    "        self.Name = Name\n",
    "        self.Last_Name = Last_Name\n",
    "       \n",
    "class Base2:\n",
    "    def __init__(self , Uni , City):\n",
    "        self.Uni = Uni\n",
    "        self.City = City\n",
    "        \n",
    "       \n",
    "    \n",
    "\n",
    "class derived1(Base1 , Base2):\n",
    "    def __init__(self, Name , Last_Name , Uni , City , Age ):\n",
    "        \n",
    "        Base1.__init__(self,Name , Last_Name)\n",
    "        Base2.__init__(self,Uni , City)\n",
    "        self.Age = Age\n",
    "     \n",
    "        \n",
    "        print(f\"HI My Name is {self.Name} {self.Last_Name}\")\n",
    "        print(f\"I'am Currently Enrolled in BSAI at the {self.Uni}\")\n",
    "        print(f\"And I from {self.City}\")\n",
    "        print(f\"I'am {self.Age} Years Old!\")\n",
    "        \n",
    "Name = input(\"Enter Your First Name :\")\n",
    "L_Name = input(\"Enter your Last Name :\")\n",
    "University = input(\"Enter your University Name :\")\n",
    "City1 = input(\"Enter your City Name :\")\n",
    "Age = input(\"Enter your Age :\")\n",
    "\n",
    "obj = derived1(Name,L_Name,University,City1,Age)\n"
   ]
  },
  {
   "cell_type": "code",
   "execution_count": 56,
   "id": "8ef753e7",
   "metadata": {},
   "outputs": [
    {
     "name": "stdout",
     "output_type": "stream",
     "text": [
      "Enter the Model of Your Class :gf\n",
      "Enter From Which Country you imported the Bike : fd\n",
      "Enter the price of Your Bike :fd\n",
      "Your BIKE Model is gf :\n",
      "This Bike Assembled in fd:\n",
      "The Price of Your Bike is fd :\n"
     ]
    }
   ],
   "source": [
    "\"\"\"Multilevel Inheritance!\"\"\"\n",
    "\n",
    "class bike:\n",
    "    def __init__(self ,Model ):\n",
    "        self.Model = Model\n",
    "   \n",
    "        print(f\"Your BIKE Model is {self.Model} :\")\n",
    "              \n",
    "class country(bike):\n",
    "    def __init__(self , Country):\n",
    "       # bike.__init__(Model)\n",
    "        self.Country = Country\n",
    "        \n",
    "        print(f\"This Bike Assembled in {self.Country}:\")\n",
    "\n",
    "class end(country):\n",
    "    def __init__(self,price):\n",
    "        #country.__init__(self,country)\n",
    "        self.price = price\n",
    "        print(f\"The Price of Your Bike is {self.price} :\")\n",
    "        \n",
    "\n",
    "Model = input(\"Enter the Model of Your Class :\")\n",
    "Country = input(\"Enter From Which Country you imported the Bike : \")\n",
    "Price = input(\"Enter the price of Your Bike :\")\n",
    "\n",
    "obj1 = bike(Model)\n",
    "obj2 = country(Country)\n",
    "obj3 = end(Price)\n"
   ]
  },
  {
   "cell_type": "code",
   "execution_count": 67,
   "id": "d9ade8f4",
   "metadata": {},
   "outputs": [
    {
     "name": "stdout",
     "output_type": "stream",
     "text": [
      "Enter your Name :88\n",
      "Enter the Owner Name55\n",
      "Enter your Department Name554\n",
      "how many students you have in your class :54\n",
      "how many Teachers you have in your class :5\n",
      "How many Male Teachers You Have ?5\n",
      "How many Female Teachers You Have ?5\n",
      "There are 5 in the Department\n",
      "And 5 Are Male\n",
      "And 5 Are Female\n"
     ]
    }
   ],
   "source": [
    "\"\"\"HIERARCHY INHERITANCE\"\"\"\n",
    "\n",
    "class University:\n",
    "    def __init__(self , Name , Owner ):\n",
    "        self.Name = Name\n",
    "        self.Owner = Owner\n",
    "    \n",
    "    def show_1(self):\n",
    "        print(f\"Name of this University is {self.Name} and Established by {self.Owner} :\")\n",
    "        \n",
    "class AI(University):\n",
    "    def __init__(self , Name , Owner , Department , Students):\n",
    "        super().__init__(Name , Owner)\n",
    "        self.Department = Department\n",
    "        self.Students = Students\n",
    "    \n",
    "    def show2(self):\n",
    "        print(f\"The Name of Department is {self.Department}\")\n",
    "        print(f\"There are {self.Students} students in the Class:\")\n",
    "\n",
    "class teacher(University):\n",
    "    def __init__(self , Name , Owner , Department , Students , Teachers , Male , Female):\n",
    "        super().__init__(Name , Owner)\n",
    "        self.Teachers = Teachers\n",
    "        self.Male =Male\n",
    "        self.Female = Female\n",
    "    \n",
    "        print(f\"There are {self.Teachers} in the Department\")\n",
    "        print(f\"And {self.Male} Are Male\")\n",
    "        print(f\"And {self.Female} Are Female\")\n",
    "    \n",
    "\n",
    "Name = input(\"Enter your Name :\")\n",
    "Owner = input(\"Enter the Owner Name\")\n",
    "Department = input(\"Enter your Department Name\")\n",
    "Students = input(\"how many students you have in your class :\")\n",
    "Teachers = input(\"how many Teachers you have in your class :\")\n",
    "Male = input(\"How many Male Teachers You Have ?\")\n",
    "Female = input(\"How many Female Teachers You Have ?\")\n",
    "\n",
    "obj1 = teacher(Name , Owner , Department , Students , Teachers , Male , Female)"
   ]
  },
  {
   "cell_type": "code",
   "execution_count": null,
   "id": "12e7a8e0",
   "metadata": {},
   "outputs": [],
   "source": []
  }
 ],
 "metadata": {
  "kernelspec": {
   "display_name": "Python 3 (ipykernel)",
   "language": "python",
   "name": "python3"
  },
  "language_info": {
   "codemirror_mode": {
    "name": "ipython",
    "version": 3
   },
   "file_extension": ".py",
   "mimetype": "text/x-python",
   "name": "python",
   "nbconvert_exporter": "python",
   "pygments_lexer": "ipython3",
   "version": "3.7.0"
  }
 },
 "nbformat": 4,
 "nbformat_minor": 5
}
